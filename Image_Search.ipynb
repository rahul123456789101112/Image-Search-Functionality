{
 "cells": [
  {
   "cell_type": "markdown",
   "id": "533c47f5-a249-4b23-8127-8a484817d4c4",
   "metadata": {},
   "source": [
    "# Import Python Libraries "
   ]
  },
  {
   "cell_type": "code",
   "execution_count": 47,
   "id": "19ff2fda-83ff-4303-93bf-54fba6d1ba82",
   "metadata": {},
   "outputs": [],
   "source": [
    "import keras\n",
    "from tensorflow.keras.preprocessing import image\n",
    "from tensorflow.keras.applications.vgg16 import VGG16, preprocess_input\n",
    "from tensorflow.keras.models import Model\n",
    "from PIL import Image\n",
    "from pathlib import Path\n",
    "import numpy as np\n",
    "from datetime import datetime\n",
    "from flask import Flask, request, render_template"
   ]
  },
  {
   "cell_type": "code",
   "execution_count": 48,
   "id": "772d5a72-0dac-42da-8bb0-d3947aa7ebd6",
   "metadata": {},
   "outputs": [
    {
     "name": "stdout",
     "output_type": "stream",
     "text": [
      "Requirement already satisfied: Pillow in c:\\users\\singh\\appdata\\local\\programs\\python\\python311\\lib\\site-packages (from -r requirements.txt (line 1)) (10.2.0)Note: you may need to restart the kernel to use updated packages.\n"
     ]
    },
    {
     "name": "stderr",
     "output_type": "stream",
     "text": [
      "\n",
      "[notice] A new release of pip is available: 23.3.2 -> 24.0\n",
      "[notice] To update, run: python.exe -m pip install --upgrade pip\n"
     ]
    },
    {
     "name": "stdout",
     "output_type": "stream",
     "text": [
      "\n",
      "Requirement already satisfied: Flask in c:\\users\\singh\\appdata\\local\\programs\\python\\python311\\lib\\site-packages (from -r requirements.txt (line 2)) (3.0.1)\n",
      "Requirement already satisfied: tensorflow>=2.0.0 in c:\\users\\singh\\appdata\\local\\programs\\python\\python311\\lib\\site-packages (from -r requirements.txt (line 3)) (2.15.0)\n",
      "Requirement already satisfied: Werkzeug>=3.0.0 in c:\\users\\singh\\appdata\\local\\programs\\python\\python311\\lib\\site-packages (from Flask->-r requirements.txt (line 2)) (3.0.1)\n",
      "Requirement already satisfied: Jinja2>=3.1.2 in c:\\users\\singh\\appdata\\local\\programs\\python\\python311\\lib\\site-packages (from Flask->-r requirements.txt (line 2)) (3.1.3)\n",
      "Requirement already satisfied: itsdangerous>=2.1.2 in c:\\users\\singh\\appdata\\local\\programs\\python\\python311\\lib\\site-packages (from Flask->-r requirements.txt (line 2)) (2.1.2)\n",
      "Requirement already satisfied: click>=8.1.3 in c:\\users\\singh\\appdata\\local\\programs\\python\\python311\\lib\\site-packages (from Flask->-r requirements.txt (line 2)) (8.1.7)\n",
      "Requirement already satisfied: blinker>=1.6.2 in c:\\users\\singh\\appdata\\local\\programs\\python\\python311\\lib\\site-packages (from Flask->-r requirements.txt (line 2)) (1.7.0)\n",
      "Requirement already satisfied: tensorflow-intel==2.15.0 in c:\\users\\singh\\appdata\\local\\programs\\python\\python311\\lib\\site-packages (from tensorflow>=2.0.0->-r requirements.txt (line 3)) (2.15.0)\n",
      "Requirement already satisfied: absl-py>=1.0.0 in c:\\users\\singh\\appdata\\local\\programs\\python\\python311\\lib\\site-packages (from tensorflow-intel==2.15.0->tensorflow>=2.0.0->-r requirements.txt (line 3)) (2.1.0)\n",
      "Requirement already satisfied: astunparse>=1.6.0 in c:\\users\\singh\\appdata\\local\\programs\\python\\python311\\lib\\site-packages (from tensorflow-intel==2.15.0->tensorflow>=2.0.0->-r requirements.txt (line 3)) (1.6.3)\n",
      "Requirement already satisfied: flatbuffers>=23.5.26 in c:\\users\\singh\\appdata\\local\\programs\\python\\python311\\lib\\site-packages (from tensorflow-intel==2.15.0->tensorflow>=2.0.0->-r requirements.txt (line 3)) (23.5.26)\n",
      "Requirement already satisfied: gast!=0.5.0,!=0.5.1,!=0.5.2,>=0.2.1 in c:\\users\\singh\\appdata\\local\\programs\\python\\python311\\lib\\site-packages (from tensorflow-intel==2.15.0->tensorflow>=2.0.0->-r requirements.txt (line 3)) (0.5.4)\n",
      "Requirement already satisfied: google-pasta>=0.1.1 in c:\\users\\singh\\appdata\\local\\programs\\python\\python311\\lib\\site-packages (from tensorflow-intel==2.15.0->tensorflow>=2.0.0->-r requirements.txt (line 3)) (0.2.0)\n",
      "Requirement already satisfied: h5py>=2.9.0 in c:\\users\\singh\\appdata\\local\\programs\\python\\python311\\lib\\site-packages (from tensorflow-intel==2.15.0->tensorflow>=2.0.0->-r requirements.txt (line 3)) (3.10.0)\n",
      "Requirement already satisfied: libclang>=13.0.0 in c:\\users\\singh\\appdata\\local\\programs\\python\\python311\\lib\\site-packages (from tensorflow-intel==2.15.0->tensorflow>=2.0.0->-r requirements.txt (line 3)) (16.0.6)\n",
      "Requirement already satisfied: ml-dtypes~=0.2.0 in c:\\users\\singh\\appdata\\local\\programs\\python\\python311\\lib\\site-packages (from tensorflow-intel==2.15.0->tensorflow>=2.0.0->-r requirements.txt (line 3)) (0.2.0)\n",
      "Requirement already satisfied: numpy<2.0.0,>=1.23.5 in c:\\users\\singh\\appdata\\local\\programs\\python\\python311\\lib\\site-packages (from tensorflow-intel==2.15.0->tensorflow>=2.0.0->-r requirements.txt (line 3)) (1.26.3)\n",
      "Requirement already satisfied: opt-einsum>=2.3.2 in c:\\users\\singh\\appdata\\local\\programs\\python\\python311\\lib\\site-packages (from tensorflow-intel==2.15.0->tensorflow>=2.0.0->-r requirements.txt (line 3)) (3.3.0)\n",
      "Requirement already satisfied: packaging in c:\\users\\singh\\appdata\\local\\programs\\python\\python311\\lib\\site-packages (from tensorflow-intel==2.15.0->tensorflow>=2.0.0->-r requirements.txt (line 3)) (23.2)\n",
      "Requirement already satisfied: protobuf!=4.21.0,!=4.21.1,!=4.21.2,!=4.21.3,!=4.21.4,!=4.21.5,<5.0.0dev,>=3.20.3 in c:\\users\\singh\\appdata\\local\\programs\\python\\python311\\lib\\site-packages (from tensorflow-intel==2.15.0->tensorflow>=2.0.0->-r requirements.txt (line 3)) (4.23.4)\n",
      "Requirement already satisfied: setuptools in c:\\users\\singh\\appdata\\local\\programs\\python\\python311\\lib\\site-packages (from tensorflow-intel==2.15.0->tensorflow>=2.0.0->-r requirements.txt (line 3)) (65.5.0)\n",
      "Requirement already satisfied: six>=1.12.0 in c:\\users\\singh\\appdata\\local\\programs\\python\\python311\\lib\\site-packages (from tensorflow-intel==2.15.0->tensorflow>=2.0.0->-r requirements.txt (line 3)) (1.16.0)\n",
      "Requirement already satisfied: termcolor>=1.1.0 in c:\\users\\singh\\appdata\\local\\programs\\python\\python311\\lib\\site-packages (from tensorflow-intel==2.15.0->tensorflow>=2.0.0->-r requirements.txt (line 3)) (2.4.0)\n",
      "Requirement already satisfied: typing-extensions>=3.6.6 in c:\\users\\singh\\appdata\\local\\programs\\python\\python311\\lib\\site-packages (from tensorflow-intel==2.15.0->tensorflow>=2.0.0->-r requirements.txt (line 3)) (4.9.0)\n",
      "Requirement already satisfied: wrapt<1.15,>=1.11.0 in c:\\users\\singh\\appdata\\local\\programs\\python\\python311\\lib\\site-packages (from tensorflow-intel==2.15.0->tensorflow>=2.0.0->-r requirements.txt (line 3)) (1.14.1)\n",
      "Requirement already satisfied: tensorflow-io-gcs-filesystem>=0.23.1 in c:\\users\\singh\\appdata\\local\\programs\\python\\python311\\lib\\site-packages (from tensorflow-intel==2.15.0->tensorflow>=2.0.0->-r requirements.txt (line 3)) (0.31.0)\n",
      "Requirement already satisfied: grpcio<2.0,>=1.24.3 in c:\\users\\singh\\appdata\\local\\programs\\python\\python311\\lib\\site-packages (from tensorflow-intel==2.15.0->tensorflow>=2.0.0->-r requirements.txt (line 3)) (1.60.1)\n",
      "Requirement already satisfied: tensorboard<2.16,>=2.15 in c:\\users\\singh\\appdata\\local\\programs\\python\\python311\\lib\\site-packages (from tensorflow-intel==2.15.0->tensorflow>=2.0.0->-r requirements.txt (line 3)) (2.15.1)\n",
      "Requirement already satisfied: tensorflow-estimator<2.16,>=2.15.0 in c:\\users\\singh\\appdata\\local\\programs\\python\\python311\\lib\\site-packages (from tensorflow-intel==2.15.0->tensorflow>=2.0.0->-r requirements.txt (line 3)) (2.15.0)\n",
      "Requirement already satisfied: keras<2.16,>=2.15.0 in c:\\users\\singh\\appdata\\local\\programs\\python\\python311\\lib\\site-packages (from tensorflow-intel==2.15.0->tensorflow>=2.0.0->-r requirements.txt (line 3)) (2.15.0)\n",
      "Requirement already satisfied: colorama in c:\\users\\singh\\appdata\\local\\programs\\python\\python311\\lib\\site-packages (from click>=8.1.3->Flask->-r requirements.txt (line 2)) (0.4.6)\n",
      "Requirement already satisfied: MarkupSafe>=2.0 in c:\\users\\singh\\appdata\\local\\programs\\python\\python311\\lib\\site-packages (from Jinja2>=3.1.2->Flask->-r requirements.txt (line 2)) (2.1.5)\n",
      "Requirement already satisfied: wheel<1.0,>=0.23.0 in c:\\users\\singh\\appdata\\local\\programs\\python\\python311\\lib\\site-packages (from astunparse>=1.6.0->tensorflow-intel==2.15.0->tensorflow>=2.0.0->-r requirements.txt (line 3)) (0.42.0)\n",
      "Requirement already satisfied: google-auth<3,>=1.6.3 in c:\\users\\singh\\appdata\\local\\programs\\python\\python311\\lib\\site-packages (from tensorboard<2.16,>=2.15->tensorflow-intel==2.15.0->tensorflow>=2.0.0->-r requirements.txt (line 3)) (2.27.0)\n",
      "Requirement already satisfied: google-auth-oauthlib<2,>=0.5 in c:\\users\\singh\\appdata\\local\\programs\\python\\python311\\lib\\site-packages (from tensorboard<2.16,>=2.15->tensorflow-intel==2.15.0->tensorflow>=2.0.0->-r requirements.txt (line 3)) (1.2.0)\n",
      "Requirement already satisfied: markdown>=2.6.8 in c:\\users\\singh\\appdata\\local\\programs\\python\\python311\\lib\\site-packages (from tensorboard<2.16,>=2.15->tensorflow-intel==2.15.0->tensorflow>=2.0.0->-r requirements.txt (line 3)) (3.5.2)\n",
      "Requirement already satisfied: requests<3,>=2.21.0 in c:\\users\\singh\\appdata\\local\\programs\\python\\python311\\lib\\site-packages (from tensorboard<2.16,>=2.15->tensorflow-intel==2.15.0->tensorflow>=2.0.0->-r requirements.txt (line 3)) (2.31.0)\n",
      "Requirement already satisfied: tensorboard-data-server<0.8.0,>=0.7.0 in c:\\users\\singh\\appdata\\local\\programs\\python\\python311\\lib\\site-packages (from tensorboard<2.16,>=2.15->tensorflow-intel==2.15.0->tensorflow>=2.0.0->-r requirements.txt (line 3)) (0.7.2)\n",
      "Requirement already satisfied: cachetools<6.0,>=2.0.0 in c:\\users\\singh\\appdata\\local\\programs\\python\\python311\\lib\\site-packages (from google-auth<3,>=1.6.3->tensorboard<2.16,>=2.15->tensorflow-intel==2.15.0->tensorflow>=2.0.0->-r requirements.txt (line 3)) (5.3.2)\n",
      "Requirement already satisfied: pyasn1-modules>=0.2.1 in c:\\users\\singh\\appdata\\local\\programs\\python\\python311\\lib\\site-packages (from google-auth<3,>=1.6.3->tensorboard<2.16,>=2.15->tensorflow-intel==2.15.0->tensorflow>=2.0.0->-r requirements.txt (line 3)) (0.3.0)\n",
      "Requirement already satisfied: rsa<5,>=3.1.4 in c:\\users\\singh\\appdata\\local\\programs\\python\\python311\\lib\\site-packages (from google-auth<3,>=1.6.3->tensorboard<2.16,>=2.15->tensorflow-intel==2.15.0->tensorflow>=2.0.0->-r requirements.txt (line 3)) (4.9)\n",
      "Requirement already satisfied: requests-oauthlib>=0.7.0 in c:\\users\\singh\\appdata\\local\\programs\\python\\python311\\lib\\site-packages (from google-auth-oauthlib<2,>=0.5->tensorboard<2.16,>=2.15->tensorflow-intel==2.15.0->tensorflow>=2.0.0->-r requirements.txt (line 3)) (1.3.1)\n",
      "Requirement already satisfied: charset-normalizer<4,>=2 in c:\\users\\singh\\appdata\\local\\programs\\python\\python311\\lib\\site-packages (from requests<3,>=2.21.0->tensorboard<2.16,>=2.15->tensorflow-intel==2.15.0->tensorflow>=2.0.0->-r requirements.txt (line 3)) (3.3.2)\n",
      "Requirement already satisfied: idna<4,>=2.5 in c:\\users\\singh\\appdata\\local\\programs\\python\\python311\\lib\\site-packages (from requests<3,>=2.21.0->tensorboard<2.16,>=2.15->tensorflow-intel==2.15.0->tensorflow>=2.0.0->-r requirements.txt (line 3)) (3.6)\n",
      "Requirement already satisfied: urllib3<3,>=1.21.1 in c:\\users\\singh\\appdata\\local\\programs\\python\\python311\\lib\\site-packages (from requests<3,>=2.21.0->tensorboard<2.16,>=2.15->tensorflow-intel==2.15.0->tensorflow>=2.0.0->-r requirements.txt (line 3)) (2.2.0)\n",
      "Requirement already satisfied: certifi>=2017.4.17 in c:\\users\\singh\\appdata\\local\\programs\\python\\python311\\lib\\site-packages (from requests<3,>=2.21.0->tensorboard<2.16,>=2.15->tensorflow-intel==2.15.0->tensorflow>=2.0.0->-r requirements.txt (line 3)) (2024.2.2)\n",
      "Requirement already satisfied: pyasn1<0.6.0,>=0.4.6 in c:\\users\\singh\\appdata\\local\\programs\\python\\python311\\lib\\site-packages (from pyasn1-modules>=0.2.1->google-auth<3,>=1.6.3->tensorboard<2.16,>=2.15->tensorflow-intel==2.15.0->tensorflow>=2.0.0->-r requirements.txt (line 3)) (0.5.1)\n",
      "Requirement already satisfied: oauthlib>=3.0.0 in c:\\users\\singh\\appdata\\local\\programs\\python\\python311\\lib\\site-packages (from requests-oauthlib>=0.7.0->google-auth-oauthlib<2,>=0.5->tensorboard<2.16,>=2.15->tensorflow-intel==2.15.0->tensorflow>=2.0.0->-r requirements.txt (line 3)) (3.2.2)\n"
     ]
    }
   ],
   "source": [
    "pip install -r requirements.txt"
   ]
  },
  {
   "cell_type": "markdown",
   "id": "be20a0f8-b901-4df3-b378-7464c9c7c679",
   "metadata": {},
   "source": [
    "# Tensorflow Version 2.15.0 is Used"
   ]
  },
  {
   "cell_type": "code",
   "execution_count": 49,
   "id": "557ed10b-80c1-493e-9519-7a759e5ae0a7",
   "metadata": {},
   "outputs": [
    {
     "name": "stdout",
     "output_type": "stream",
     "text": [
      "2.15.0\n"
     ]
    }
   ],
   "source": [
    "import tensorflow as tf\n",
    "print(tf.__version__)"
   ]
  },
  {
   "cell_type": "markdown",
   "id": "ce7c69f3-a729-4089-81b0-0097394871fe",
   "metadata": {},
   "source": [
    "### Create a Class For Extracting Feature. Based on these Feature our Model is going to show output"
   ]
  },
  {
   "cell_type": "code",
   "execution_count": 50,
   "id": "c4719c2f-e708-4741-9032-5e6eb9af684c",
   "metadata": {},
   "outputs": [],
   "source": [
    "class FeatureExtractor:\n",
    "    def __init__(self):\n",
    "        base_model = VGG16(weights='imagenet')\n",
    "        self.model = Model(inputs=base_model.input, outputs=base_model.get_layer('fc1').output)\n",
    "\n",
    "    def extract(self, img):\n",
    "        \"\"\"\n",
    "        Extract a deep feature from an input image\n",
    "        Args:\n",
    "            img: from PIL.Image.open(path) or tensorflow.keras.preprocessing.image.load_img(path)\n",
    "\n",
    "        Returns:\n",
    "            feature (np.ndarray): deep feature with the shape=(4096, )\n",
    "        \"\"\"\n",
    "        img = img.resize((224, 224))  # VGG must take a 224x224 img as an input\n",
    "        img = img.convert('RGB')  # Make sure img is color\n",
    "        x = image.img_to_array(img)  # To np.array. Height x Width x Channel. dtype=float32\n",
    "        x = np.expand_dims(x, axis=0)  # (H, W, C)->(1, H, W, C), where the first elem is the number of img\n",
    "        x = preprocess_input(x)  # Subtracting avg values for each pixel\n",
    "        feature = self.model.predict(x)[0]  # (1, 4096) -> (4096, )\n",
    "        return feature / np.linalg.norm(feature)  # Normalize\n"
   ]
  },
  {
   "cell_type": "markdown",
   "id": "3dff64e7-4fec-4bf6-836f-bb0ea49dfd97",
   "metadata": {},
   "source": [
    "### Extrating the feature from the Images"
   ]
  },
  {
   "cell_type": "code",
   "execution_count": 51,
   "id": "7a53305d-45be-4573-a970-733e621a0fec",
   "metadata": {},
   "outputs": [
    {
     "name": "stdout",
     "output_type": "stream",
     "text": [
      "static\\img\\Blue_Cir.jpg\n",
      "1/1 [==============================] - 3s 3s/step\n",
      "static\\img\\Blue_Rect.jpg\n",
      "1/1 [==============================] - 0s 375ms/step\n",
      "static\\img\\Blue_Tri.jpg\n",
      "1/1 [==============================] - 0s 390ms/step\n",
      "static\\img\\Green_Cir.jpg\n",
      "1/1 [==============================] - 0s 437ms/step\n",
      "static\\img\\Green_Rect.jpg\n",
      "1/1 [==============================] - 0s 390ms/step\n",
      "static\\img\\Green_Tri.jpg\n",
      "1/1 [==============================] - 0s 373ms/step\n",
      "static\\img\\Red_Cir.jpg\n",
      "1/1 [==============================] - 0s 362ms/step\n",
      "static\\img\\Red_Rect.jpg\n",
      "1/1 [==============================] - 0s 475ms/step\n",
      "static\\img\\Red_Tri.jpg\n",
      "1/1 [==============================] - 1s 607ms/step\n"
     ]
    }
   ],
   "source": [
    "if __name__ == '__main__':\n",
    "    fe = FeatureExtractor()\n",
    "\n",
    "    for img_path in sorted(Path(\"./static/img\").glob(\"*.jpg\")):\n",
    "        print(img_path)\n",
    "        feature = fe.extract(img=Image.open(img_path))\n",
    "        feature_path = Path(\"./static/feature\") / (img_path.stem + \".npy\")\n",
    "        np.save(feature_path, feature)"
   ]
  },
  {
   "cell_type": "code",
   "execution_count": 58,
   "id": "95293ca9-3754-4390-aacd-24bc4d04a084",
   "metadata": {},
   "outputs": [
    {
     "name": "stdout",
     "output_type": "stream",
     "text": [
      "1/1 [==============================] - 2s 2s/step\n"
     ]
    },
    {
     "data": {
      "image/png": "[encoded data removed]",
      "text/plain": [
       "<Figure size 640x480 with 5 Axes>"
      ]
     },
     "metadata": {},
     "output_type": "display_data"
    }
   ],
   "source": [
    "import os\n",
    "import matplotlib.pyplot as plt\n",
    "\n",
    "def find_similar_images(query_image, dataset_path, top_n=5):\n",
    "    fe = FeatureExtractor()\n",
    "\n",
    "    query_features = fe.extract(query_image)\n",
    "    \n",
    "    image_paths = [os.path.join(dataset_path, file) for file in os.listdir(dataset_path) if file.lower().endswith(('.jpg', '.jpeg'))]\n",
    "    \n",
    "    similarities = []\n",
    "\n",
    "    for image_path in image_paths:\n",
    "        features = np.load(os.path.join(\"./static/feature\", f\"{Path(image_path).stem}.npy\"))\n",
    "        similarity = np.dot(query_features, features) / (np.linalg.norm(query_features) * np.linalg.norm(features))\n",
    "        similarities.append((image_path, similarity))\n",
    "\n",
    "    similarities.sort(key=lambda x: x[1], reverse=True)\n",
    "\n",
    "    for i in range(min(top_n, len(similarities))):\n",
    "        similar_image_path, similarity_score = similarities[i]\n",
    "        similar_image = Image.open(similar_image_path)\n",
    "\n",
    "        plt.subplot(1, top_n, i + 1)\n",
    "        plt.imshow(similar_image)\n",
    "        plt.title(f\"Similarity: {similarity_score:.2f}\", fontsize = 8)\n",
    "        plt.axis('off')\n",
    "\n",
    "    plt.show()\n",
    "\n",
    "user_input_image_path = 'static/img/Green_Tri.jpg'  # Change this to the actual path or input from the user\n",
    "user_input_image = Image.open(user_input_image_path)\n",
    "\n",
    "dataset_path = './static/img'\n",
    "\n",
    "find_similar_images(user_input_image, dataset_path, top_n=5)\n"
   ]
  },
  {
   "cell_type": "code",
   "execution_count": null,
   "id": "40b08913-5309-4fac-a613-0e5ca87eca6f",
   "metadata": {},
   "outputs": [],
   "source": []
  }
 ],
 "metadata": {
  "kernelspec": {
   "display_name": "Python 3 (ipykernel)",
   "language": "python",
   "name": "python3"
  },
  "language_info": {
   "codemirror_mode": {
    "name": "ipython",
    "version": 3
   },
   "file_extension": ".py",
   "mimetype": "text/x-python",
   "name": "python",
   "nbconvert_exporter": "python",
   "pygments_lexer": "ipython3",
   "version": "3.11.7"
  }
 },
 "nbformat": 4,
 "nbformat_minor": 5
}
